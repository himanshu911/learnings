{
 "cells": [
  {
   "cell_type": "code",
   "execution_count": null,
   "metadata": {},
   "outputs": [],
   "source": [
    "import os\n",
    "\n",
    "print(os.getcwd())"
   ]
  },
  {
   "cell_type": "code",
   "execution_count": null,
   "metadata": {},
   "outputs": [],
   "source": [
    "import torch\n",
    "from torch import nn, optim\n",
    "from torch.nn import functional as F\n",
    "\n",
    "from miniai.miniai import *"
   ]
  },
  {
   "cell_type": "code",
   "execution_count": null,
   "metadata": {},
   "outputs": [],
   "source": [
    "# Prepare data and data loaders\n",
    "train_ds = Dataset(x=torch.randn(100, 10), y=torch.rand(100, 1))\n",
    "valid_ds = Dataset(x=torch.randn(100, 10), y=torch.rand(100, 1))\n",
    "dls = DataLoaders(*get_dls(train_ds, valid_ds, bs=10))"
   ]
  },
  {
   "cell_type": "code",
   "execution_count": null,
   "metadata": {},
   "outputs": [],
   "source": [
    "# Test DataLoader functionality\n",
    "print(\"Testing DataLoader functionality...\")\n",
    "for xb, yb in dls.train:\n",
    "    print(\"Batch x shape:\", xb.shape)\n",
    "    print(\"Batch y shape:\", yb.shape)\n",
    "    break  # Only print the first batch to check shapes"
   ]
  },
  {
   "cell_type": "code",
   "execution_count": null,
   "metadata": {},
   "outputs": [],
   "source": [
    "# Define a simple model\n",
    "model = nn.Sequential(nn.Linear(10, 5), nn.ReLU(), nn.Linear(5, 1))\n",
    "\n",
    "# Test Model Prediction\n",
    "print(\"Testing model predictions...\")\n",
    "xb, yb = next(iter(dls.train))\n",
    "preds = model(xb)\n",
    "print(\"Predictions shape:\", preds.shape)"
   ]
  },
  {
   "cell_type": "code",
   "execution_count": null,
   "metadata": {},
   "outputs": [],
   "source": [
    "# Define a simple learner and train 1 epoch\n",
    "learner = Learner(\n",
    "    model=model, dls=dls, loss_func=F.mse_loss, opt_func=optim.SGD, lr=0.01\n",
    ")\n",
    "learner.fit(1)"
   ]
  },
  {
   "cell_type": "code",
   "execution_count": null,
   "metadata": {},
   "outputs": [],
   "source": [
    "# Initialize callbacks and run training to test callbacks\n",
    "print(\"Testing Callbacks and training...\")\n",
    "train_cb = TrainCB()\n",
    "device_cb = DeviceCB()\n",
    "metrics_cb = MetricsCB()\n",
    "progress_cb = ProgressCB(plot=False)\n",
    "learner.fit(\n",
    "    1, cbs=[train_cb, device_cb, metrics_cb, progress_cb]\n",
    ")  # Run one epoch of training with callbacks\n",
    "\n",
    "\n",
    "# Additional Callback Test: Check if Metrics Callback gathers data\n",
    "if hasattr(metrics_cb, \"all_metrics\"):\n",
    "    print(\"Metrics recorded during training:\", metrics_cb.all_metrics)\n",
    "else:\n",
    "    print(\"No metrics recorded.\")"
   ]
  },
  {
   "cell_type": "code",
   "execution_count": null,
   "metadata": {},
   "outputs": [],
   "source": [
    "print(\"Testing Image Display Functionality...\")\n",
    "show_images([torch.rand(28, 28) for _ in range(4)], nrows=2, ncols=2, figsize=(6, 6))"
   ]
  },
  {
   "cell_type": "code",
   "execution_count": null,
   "metadata": {},
   "outputs": [],
   "source": []
  },
  {
   "cell_type": "code",
   "execution_count": null,
   "metadata": {},
   "outputs": [],
   "source": []
  }
 ],
 "metadata": {
  "kernelspec": {
   "display_name": "learnings",
   "language": "python",
   "name": "python3"
  },
  "language_info": {
   "codemirror_mode": {
    "name": "ipython",
    "version": 3
   },
   "file_extension": ".py",
   "mimetype": "text/x-python",
   "name": "python",
   "nbconvert_exporter": "python",
   "pygments_lexer": "ipython3",
   "version": "3.10.13"
  }
 },
 "nbformat": 4,
 "nbformat_minor": 2
}
