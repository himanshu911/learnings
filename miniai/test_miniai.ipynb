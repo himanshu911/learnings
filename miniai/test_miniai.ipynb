{
 "cells": [
  {
   "cell_type": "code",
   "execution_count": 1,
   "metadata": {},
   "outputs": [
    {
     "name": "stdout",
     "output_type": "stream",
     "text": [
      "/home/ubuntuuser/projects/learnings/miniai\n",
      "/home/ubuntuuser/projects/learnings\n"
     ]
    }
   ],
   "source": [
    "import os\n",
    "\n",
    "print(os.getcwd())\n",
    "\n",
    "os.chdir(os.path.dirname(os.getcwd()))\n",
    "\n",
    "print(os.getcwd())\n"
   ]
  },
  {
   "cell_type": "code",
   "execution_count": 4,
   "metadata": {},
   "outputs": [],
   "source": [
    "import torch\n",
    "from torch import nn, optim\n",
    "from torch.nn import functional as F\n",
    "\n",
    "from miniai.miniai import *"
   ]
  },
  {
   "cell_type": "code",
   "execution_count": 5,
   "metadata": {},
   "outputs": [],
   "source": [
    "# Prepare data and data loaders\n",
    "train_ds = Dataset(x=torch.randn(100, 10), y=torch.rand(100, 1))\n",
    "valid_ds = Dataset(x=torch.randn(100, 10), y=torch.rand(100, 1))\n",
    "dls = DataLoaders(*get_dls(train_ds, valid_ds, bs=10))"
   ]
  },
  {
   "cell_type": "code",
   "execution_count": 6,
   "metadata": {},
   "outputs": [
    {
     "name": "stdout",
     "output_type": "stream",
     "text": [
      "Testing DataLoader functionality...\n",
      "Batch x shape: torch.Size([10, 10])\n",
      "Batch y shape: torch.Size([10, 1])\n"
     ]
    }
   ],
   "source": [
    "# Test DataLoader functionality\n",
    "print(\"Testing DataLoader functionality...\")\n",
    "for xb, yb in dls.train:\n",
    "    print(\"Batch x shape:\", xb.shape)\n",
    "    print(\"Batch y shape:\", yb.shape)\n",
    "    break  # Only print the first batch to check shapes"
   ]
  },
  {
   "cell_type": "code",
   "execution_count": 7,
   "metadata": {},
   "outputs": [
    {
     "name": "stdout",
     "output_type": "stream",
     "text": [
      "Testing model predictions...\n",
      "Predictions shape: torch.Size([10, 1])\n"
     ]
    }
   ],
   "source": [
    "# Define a simple model\n",
    "model = nn.Sequential(nn.Linear(10, 5), nn.ReLU(), nn.Linear(5, 1))\n",
    "\n",
    "# Test Model Prediction\n",
    "print(\"Testing model predictions...\")\n",
    "xb, yb = next(iter(dls.train))\n",
    "preds = model(xb)\n",
    "print(\"Predictions shape:\", preds.shape)"
   ]
  },
  {
   "cell_type": "code",
   "execution_count": 8,
   "metadata": {},
   "outputs": [],
   "source": [
    "# Define a simple learner and train 1 epoch\n",
    "learner = Learner(\n",
    "    model=model, dls=dls, loss_func=F.mse_loss, opt_func=optim.SGD, lr=0.01\n",
    ")\n",
    "learner.fit(1)"
   ]
  },
  {
   "cell_type": "code",
   "execution_count": 9,
   "metadata": {},
   "outputs": [
    {
     "name": "stdout",
     "output_type": "stream",
     "text": [
      "Testing Callbacks and training...\n"
     ]
    },
    {
     "data": {
      "text/html": [
       "\n",
       "<style>\n",
       "    /* Turns off some styling */\n",
       "    progress {\n",
       "        /* gets rid of default border in Firefox and Opera. */\n",
       "        border: none;\n",
       "        /* Needs to be in here for Safari polyfill so background images work as expected. */\n",
       "        background-size: auto;\n",
       "    }\n",
       "    progress:not([value]), progress:not([value])::-webkit-progress-bar {\n",
       "        background: repeating-linear-gradient(45deg, #7e7e7e, #7e7e7e 10px, #5c5c5c 10px, #5c5c5c 20px);\n",
       "    }\n",
       "    .progress-bar-interrupted, .progress-bar-interrupted::-webkit-progress-bar {\n",
       "        background: #F44336;\n",
       "    }\n",
       "</style>\n"
      ],
      "text/plain": [
       "<IPython.core.display.HTML object>"
      ]
     },
     "metadata": {},
     "output_type": "display_data"
    },
    {
     "data": {
      "text/html": [
       "<table border=\"1\" class=\"dataframe\">\n",
       "  <thead>\n",
       "    <tr style=\"text-align: left;\">\n",
       "      <th>loss</th>\n",
       "      <th>epoch</th>\n",
       "      <th>train</th>\n",
       "      <th>time</th>\n",
       "    </tr>\n",
       "  </thead>\n",
       "  <tbody>\n",
       "    <tr>\n",
       "      <td>0.103</td>\n",
       "      <td>0</td>\n",
       "      <td>train</td>\n",
       "      <td>00:00</td>\n",
       "    </tr>\n",
       "    <tr>\n",
       "      <td>0.098</td>\n",
       "      <td>0</td>\n",
       "      <td>eval</td>\n",
       "      <td>00:00</td>\n",
       "    </tr>\n",
       "  </tbody>\n",
       "</table>"
      ],
      "text/plain": [
       "<IPython.core.display.HTML object>"
      ]
     },
     "metadata": {},
     "output_type": "display_data"
    },
    {
     "name": "stdout",
     "output_type": "stream",
     "text": [
      "Metrics recorded during training: {'loss': <torcheval.metrics.aggregation.mean.Mean object at 0x7f1800969e90>}\n"
     ]
    }
   ],
   "source": [
    "# Initialize callbacks and run training to test callbacks\n",
    "print(\"Testing Callbacks and training...\")\n",
    "train_cb = TrainCB()\n",
    "device_cb = DeviceCB()\n",
    "metrics_cb = MetricsCB()\n",
    "progress_cb = ProgressCB(plot=False)\n",
    "learner.fit(\n",
    "    1, cbs=[train_cb, device_cb, metrics_cb, progress_cb]\n",
    ")  # Run one epoch of training with callbacks\n",
    "\n",
    "\n",
    "# Additional Callback Test: Check if Metrics Callback gathers data\n",
    "if hasattr(metrics_cb, \"all_metrics\"):\n",
    "    print(\"Metrics recorded during training:\", metrics_cb.all_metrics)\n",
    "else:\n",
    "    print(\"No metrics recorded.\")"
   ]
  },
  {
   "cell_type": "code",
   "execution_count": 10,
   "metadata": {},
   "outputs": [
    {
     "name": "stdout",
     "output_type": "stream",
     "text": [
      "Testing Image Display Functionality...\n"
     ]
    },
    {
     "data": {
      "image/png": "[encoded data removed]",
      "text/plain": [
       "<Figure size 600x600 with 4 Axes>"
      ]
     },
     "metadata": {},
     "output_type": "display_data"
    }
   ],
   "source": [
    "print(\"Testing Image Display Functionality...\")\n",
    "show_images([torch.rand(28, 28) for _ in range(4)], nrows=2, ncols=2, figsize=(6, 6))"
   ]
  },
  {
   "cell_type": "code",
   "execution_count": null,
   "metadata": {},
   "outputs": [],
   "source": []
  },
  {
   "cell_type": "code",
   "execution_count": null,
   "metadata": {},
   "outputs": [],
   "source": []
  },
  {
   "cell_type": "code",
   "execution_count": null,
   "metadata": {},
   "outputs": [],
   "source": []
  },
  {
   "cell_type": "code",
   "execution_count": null,
   "metadata": {},
   "outputs": [],
   "source": []
  },
  {
   "cell_type": "code",
   "execution_count": null,
   "metadata": {},
   "outputs": [],
   "source": []
  }
 ],
 "metadata": {
  "kernelspec": {
   "display_name": "learnings-env",
   "language": "python",
   "name": "python3"
  },
  "language_info": {
   "codemirror_mode": {
    "name": "ipython",
    "version": 3
   },
   "file_extension": ".py",
   "mimetype": "text/x-python",
   "name": "python",
   "nbconvert_exporter": "python",
   "pygments_lexer": "ipython3",
   "version": "3.11.3"
  }
 },
 "nbformat": 4,
 "nbformat_minor": 2
}
