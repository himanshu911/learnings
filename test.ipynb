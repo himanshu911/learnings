{
 "cells": [
  {
   "cell_type": "code",
   "execution_count": null,
   "metadata": {},
   "outputs": [],
   "source": [
    "from miniai import def_device, to_device"
   ]
  },
  {
   "cell_type": "code",
   "execution_count": null,
   "metadata": {},
   "outputs": [],
   "source": [
    "def_device"
   ]
  },
  {
   "cell_type": "code",
   "execution_count": null,
   "metadata": {},
   "outputs": [],
   "source": [
    "to_device??"
   ]
  },
  {
   "cell_type": "code",
   "execution_count": null,
   "metadata": {},
   "outputs": [],
   "source": [
    "from utils import load_sklearn_dataset\n",
    "\n",
    "import torch\n",
    "from torch import nn\n",
    "from torch.utils.data import DataLoader\n",
    "\n",
    "from miniai import (\n",
    "    Dataset,\n",
    "    DataLoaders,\n",
    "    Learner,\n",
    "    TrainCB,\n",
    "    MetricsCB,\n",
    "    DeviceCB,\n",
    "    ProgressCB,\n",
    ")\n",
    "\n",
    "\n",
    "class RegressionNN(nn.Module):\n",
    "    def __init__(self, input_size, output_size):\n",
    "        super(RegressionNN, self).__init__()\n",
    "        self.fc1 = nn.Linear(input_size, 128)\n",
    "        self.fc2 = nn.Linear(128, 64)\n",
    "        self.fc3 = nn.Linear(64, output_size)\n",
    "\n",
    "    def forward(self, x):\n",
    "        x = torch.relu(self.fc1(x))\n",
    "        x = torch.relu(self.fc2(x))\n",
    "        return self.fc3(x)"
   ]
  },
  {
   "cell_type": "code",
   "execution_count": null,
   "metadata": {},
   "outputs": [],
   "source": [
    "X_train, X_val, X_test, y_train, y_val, y_test = load_sklearn_dataset(\n",
    "    \"california_housing\"\n",
    ")"
   ]
  },
  {
   "cell_type": "code",
   "execution_count": null,
   "metadata": {},
   "outputs": [],
   "source": [
    "# Create Dataset instances\n",
    "train_ds = Dataset(X_train, y_train)\n",
    "valid_ds = Dataset(X_val, y_val)\n",
    "test_ds = Dataset(X_test, y_test)\n",
    "\n",
    "# Prepare DataLoaders\n",
    "train_dl = DataLoader(train_ds, batch_size=64, shuffle=True)\n",
    "val_dl = DataLoader(valid_ds, batch_size=64)\n",
    "\n",
    "# Initialize the neural network\n",
    "input_size = X_train.shape[1]  # Features count\n",
    "output_size = 1  # Single regression output\n",
    "model = RegressionNN(input_size, output_size)\n",
    "\n",
    "# Prepare the learner\n",
    "loss_func = nn.MSELoss()\n",
    "lr = 0.01\n",
    "opt_func = torch.optim.Adam\n",
    "\n",
    "cbs = [\n",
    "    TrainCB(),  # Handles the core steps in the training loop. Can be left out if using TrainLearner\n",
    "    DeviceCB(),  # Handles making sure data and model are on the right device\n",
    "    MetricsCB(),  # Keep track of any relevant metrics\n",
    "    ProgressCB(),  # Displays metrics and loss during training, optionally plot=True for a pretty graph\n",
    "]\n",
    "\n",
    "learner = Learner(\n",
    "    model, DataLoaders(train_dl, val_dl), loss_func, lr, opt_func=opt_func, cbs=cbs\n",
    ")\n",
    "\n",
    "# Train the model\n",
    "learner.fit(n_epochs=10, train=True, valid=True)\n",
    "\n",
    "# Optionally, evaluate the model on the test set if required\n",
    "test_dl = DataLoader(test_ds, batch_size=64)\n",
    "# Further testing and evaluation logic here"
   ]
  },
  {
   "cell_type": "code",
   "execution_count": null,
   "metadata": {},
   "outputs": [],
   "source": []
  },
  {
   "cell_type": "code",
   "execution_count": null,
   "metadata": {},
   "outputs": [],
   "source": []
  },
  {
   "cell_type": "code",
   "execution_count": null,
   "metadata": {},
   "outputs": [],
   "source": []
  },
  {
   "cell_type": "code",
   "execution_count": null,
   "metadata": {},
   "outputs": [],
   "source": []
  },
  {
   "cell_type": "code",
   "execution_count": null,
   "metadata": {},
   "outputs": [],
   "source": [
    "import math, typing\n",
    "from collections.abc import Mapping\n",
    "from copy import copy\n",
    "from itertools import zip_longest\n",
    "from functools import partial, wraps\n",
    "from operator import attrgetter, itemgetter\n",
    "\n",
    "import matplotlib.pyplot as plt\n",
    "import numpy as np\n",
    "import fastcore.all as fc\n",
    "from fastprogress import progress_bar, master_bar\n",
    "\n",
    "import torch\n",
    "from torch import nn, optim\n",
    "from torch.utils.data import DataLoader\n",
    "import torch.nn.functional as F\n",
    "from torch.optim.lr_scheduler import ExponentialLR\n",
    "from torch.utils.data import default_collate\n",
    "\n",
    "from torcheval.metrics import Mean\n",
    "from einops import rearrange\n",
    "from accelerate import Accelerator\n",
    "\n",
    "from fastcore.test import *\n",
    "import operator\n",
    "import pandas as pd"
   ]
  },
  {
   "cell_type": "code",
   "execution_count": null,
   "metadata": {},
   "outputs": [],
   "source": []
  },
  {
   "cell_type": "code",
   "execution_count": null,
   "metadata": {},
   "outputs": [],
   "source": [
    "df = pd.DataFrame({\"A\": [1, 2, 3], \"B\": [4, 5, 6]})\n",
    "print(df)"
   ]
  },
  {
   "cell_type": "code",
   "execution_count": null,
   "metadata": {},
   "outputs": [],
   "source": [
    "test([1, 2], [1, 2], operator.eq)"
   ]
  },
  {
   "cell_type": "code",
   "execution_count": null,
   "metadata": {},
   "outputs": [],
   "source": [
    "def _fail():\n",
    "    raise Exception()\n",
    "\n",
    "\n",
    "test_fail(_fail)"
   ]
  },
  {
   "cell_type": "code",
   "execution_count": null,
   "metadata": {},
   "outputs": [],
   "source": [
    "test([1, 2], [1, 2], operator.eq)\n",
    "test_fail(lambda: test([1, 2], [1], operator.eq))"
   ]
  },
  {
   "cell_type": "code",
   "execution_count": null,
   "metadata": {},
   "outputs": [],
   "source": [
    "# test([\"abc\"], [\"abc\"], all_equal)\n",
    "# test_fail(lambda: test([\"abc\"], [\"cab\"], all_equal))"
   ]
  },
  {
   "cell_type": "code",
   "execution_count": null,
   "metadata": {},
   "outputs": [],
   "source": [
    "def _fail_args(a):\n",
    "    print(a)\n",
    "    if a == 5:\n",
    "        raise ValueError\n",
    "\n",
    "\n",
    "test_fail(_fail_args, args=(5,))\n",
    "test_fail(_fail_args, kwargs=dict(a=5))"
   ]
  },
  {
   "cell_type": "code",
   "execution_count": null,
   "metadata": {},
   "outputs": [],
   "source": [
    "# _fail_args(5)"
   ]
  },
  {
   "cell_type": "code",
   "execution_count": null,
   "metadata": {},
   "outputs": [],
   "source": [
    "# ifnone(a, b)"
   ]
  },
  {
   "cell_type": "code",
   "execution_count": null,
   "metadata": {},
   "outputs": [],
   "source": [
    "# test_eq(ifnone(None, 1), 1)\n",
    "# test_eq(ifnone(2, 1), 2)"
   ]
  },
  {
   "cell_type": "code",
   "execution_count": null,
   "metadata": {},
   "outputs": [],
   "source": []
  },
  {
   "cell_type": "code",
   "execution_count": null,
   "metadata": {},
   "outputs": [],
   "source": []
  },
  {
   "cell_type": "code",
   "execution_count": null,
   "metadata": {},
   "outputs": [],
   "source": []
  },
  {
   "cell_type": "code",
   "execution_count": null,
   "metadata": {},
   "outputs": [],
   "source": [
    "from fastcore.all import *\n",
    "\n",
    "\n",
    "class MyClass:\n",
    "    def __init__(self, a, b, c=3):\n",
    "        store_attr()  # Automatically assigns a, b, c as attributes\n",
    "\n",
    "\n",
    "obj = MyClass(1, 2)\n",
    "print(obj.a)  # Output: 1\n",
    "print(obj.b)  # Output: 2\n",
    "print(obj.c)  # Output: 3\n",
    "\n",
    "\n",
    "class Animal:\n",
    "    def __init__(self, name):\n",
    "        store_attr()\n",
    "\n",
    "    def make_sound(self, sound):\n",
    "        print(f\"{self.name} says {sound}\")\n",
    "\n",
    "\n",
    "# Use fastcore's patch to add new methods to Animal\n",
    "@patch\n",
    "def sit(self: Animal):\n",
    "    print(f\"{self.name} sits down.\")\n",
    "\n",
    "\n",
    "@patch\n",
    "def roll_over(self: Animal):\n",
    "    print(f\"{self.name} rolls over.\")\n",
    "\n",
    "\n",
    "dog = Animal(\"Buddy\")\n",
    "dog.make_sound(\"Woof!\")\n",
    "dog.sit()\n",
    "dog.roll_over()\n",
    "\n",
    "\n",
    "class BaseModel:\n",
    "    def __init__(self, input_size, output_size, activation):\n",
    "        store_attr()\n",
    "        print(\n",
    "            f\"Initialized BaseModel with input_size={input_size}, output_size={output_size}, activation={activation}\"\n",
    "        )\n",
    "\n",
    "\n",
    "@delegates(BaseModel.__init__)  # Delegate parameters from BaseModel.__init__\n",
    "class AdvancedModel(BaseModel):\n",
    "    def __init__(self, hidden_layers, **kwargs):\n",
    "        super().__init__(**kwargs)\n",
    "        self.hidden_layers = hidden_layers\n",
    "        print(f\"AdvancedModel adds hidden_layers={self.hidden_layers}\")\n",
    "\n",
    "\n",
    "model = AdvancedModel(\n",
    "    input_size=784, output_size=10, activation=\"relu\", hidden_layers=[128, 64]\n",
    ")"
   ]
  },
  {
   "cell_type": "code",
   "execution_count": null,
   "metadata": {},
   "outputs": [],
   "source": [
    "AdvancedModel??"
   ]
  },
  {
   "cell_type": "code",
   "execution_count": null,
   "metadata": {},
   "outputs": [],
   "source": [
    "class Base:\n",
    "    def __init__(self, a, b):\n",
    "        pass\n",
    "\n",
    "\n",
    "@delegates(Base.__init__)\n",
    "class Derived(Base):\n",
    "    def __init__(self, c, d, **kwargs):\n",
    "        super().__init__(**kwargs)"
   ]
  },
  {
   "cell_type": "code",
   "execution_count": null,
   "metadata": {},
   "outputs": [],
   "source": [
    "Derived??"
   ]
  },
  {
   "cell_type": "code",
   "execution_count": null,
   "metadata": {},
   "outputs": [],
   "source": [
    "import inspect"
   ]
  },
  {
   "cell_type": "code",
   "execution_count": null,
   "metadata": {},
   "outputs": [],
   "source": [
    "print(inspect.signature(Derived.__init__))"
   ]
  },
  {
   "cell_type": "code",
   "execution_count": null,
   "metadata": {},
   "outputs": [],
   "source": []
  }
 ],
 "metadata": {
  "kernelspec": {
   "display_name": "fastcore",
   "language": "python",
   "name": "python3"
  },
  "language_info": {
   "codemirror_mode": {
    "name": "ipython",
    "version": 3
   },
   "file_extension": ".py",
   "mimetype": "text/x-python",
   "name": "python",
   "nbconvert_exporter": "python",
   "pygments_lexer": "ipython3",
   "version": "3.10.13"
  }
 },
 "nbformat": 4,
 "nbformat_minor": 2
}
